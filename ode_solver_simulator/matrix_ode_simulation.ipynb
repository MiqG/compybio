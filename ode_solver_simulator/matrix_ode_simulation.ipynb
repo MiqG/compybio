{
 "cells": [
  {
   "cell_type": "markdown",
   "metadata": {},
   "source": [
    "# Matrix ODE systems simulation"
   ]
  },
  {
   "cell_type": "markdown",
   "metadata": {},
   "source": [
    "## Build ODE system from stoichiometric matrix"
   ]
  },
  {
   "cell_type": "code",
   "execution_count": 1,
   "metadata": {},
   "outputs": [
    {
     "name": "stderr",
     "output_type": "stream",
     "text": [
      "Loading required package: deSolve\n"
     ]
    }
   ],
   "source": [
    "# load libraries\n",
    "require(deSolve)"
   ]
  },
  {
   "cell_type": "markdown",
   "metadata": {},
   "source": [
    "- Create a *coefficients* matrix:"
   ]
  },
  {
   "cell_type": "code",
   "execution_count": 2,
   "metadata": {},
   "outputs": [],
   "source": [
    "# make stoichiometric matrix\n",
    "stoich = matrix(c(\n",
    "-2,0,-2,0,\n",
    "1,1,0,-1,\n",
    "0,-1,0,0,\n",
    "0,0,2,0,\n",
    "0,0,0,1\n",
    "),ncol=4,byrow=T)"
   ]
  },
  {
   "cell_type": "markdown",
   "metadata": {},
   "source": [
    "- Create functions:\n",
    "    - write create an ODE function from a matrix\n",
    "    - avoid having to name the vectors"
   ]
  },
  {
   "cell_type": "code",
   "execution_count": 3,
   "metadata": {},
   "outputs": [
    {
     "data": {
      "text/html": [
       "TRUE"
      ],
      "text/latex": [
       "TRUE"
      ],
      "text/markdown": [
       "TRUE"
      ],
      "text/plain": [
       "[1] TRUE"
      ]
     },
     "metadata": {},
     "output_type": "display_data"
    }
   ],
   "source": [
    "ODE_system_from_matrix = function(mat){\n",
    "    \n",
    "    # variable names\n",
    "    var_name = paste('c',toupper(letters)[1:nrow(stoich)],sep=\"\")\n",
    "    coefs = cbind(var_name,stoich)\n",
    "    rate_names = paste('r',1:ncol(stoich),sep=\"\")\n",
    "    colnames(coefs) = c('var_name',rate_names)  \n",
    "\n",
    "    # save coefficients table\n",
    "    write.table(coefs,'tmp_coefficients.txt',row.names=F,quote=F,sep=\"\\t\")\n",
    "\n",
    "    # create ODE system function\n",
    "    system2('python3',args = c('write_ode_function_R.py','tmp_coefficients.txt','ode_function.R'))\n",
    "    \n",
    "    # load function\n",
    "    source('ode_function.R')  \n",
    "    \n",
    "    # remove\n",
    "    file.remove('tmp_coefficients.txt')\n",
    "    file.remove('ode_function.R')\n",
    "}\n",
    "\n",
    "simulate_ode_system = function(mat,time_intervals,initial_state,parameters,ode_func){\n",
    "    \n",
    "    # names to initial states\n",
    "    names(initial_state) = paste('c',toupper(letters)[1:length(initial_state)],sep=\"\")\n",
    "    # names to parameters\n",
    "    names(parameters) = paste('r',1:length(parameters),sep=\"\")\n",
    "    #\n",
    "    return(ode(y = initial_state, times = time_intervals, func = ode_func, parms = parameters))\n",
    "}"
   ]
  },
  {
   "cell_type": "markdown",
   "metadata": {},
   "source": [
    "- Define variables:\n",
    "    - time interval\n",
    "    - initial state\n",
    "    - rates"
   ]
  },
  {
   "cell_type": "code",
   "execution_count": 4,
   "metadata": {},
   "outputs": [],
   "source": [
    "# time intervals\n",
    "t_intv = seq(0,100, by= 0.1)\n",
    "# initial state\n",
    "init_state = c(100,0,0,0,0)\n",
    "# parameters (rates)\n",
    "rates = c(0.5,0.2,0.1,0.2)"
   ]
  },
  {
   "cell_type": "markdown",
   "metadata": {},
   "source": [
    "- Simulate:"
   ]
  },
  {
   "cell_type": "code",
   "execution_count": null,
   "metadata": {},
   "outputs": [],
   "source": [
    "# build ode_system function from stoichiometric matrix\n",
    "ODE_system_from_matrix(stoich)\n",
    "\n",
    "# simulate\n",
    "out = simulate_ode_system(t_intv,init_state,rates,ode_system)"
   ]
  },
  {
   "cell_type": "code",
   "execution_count": 12,
   "metadata": {},
   "outputs": [
    {
     "data": {
      "image/png": "[encoded data removed]",
      "text/plain": [
       "plot without title"
      ]
     },
     "metadata": {},
     "output_type": "display_data"
    }
   ],
   "source": [
    "# visualize\n",
    "matplot(out,pch=19)"
   ]
  }
 ],
 "metadata": {
  "kernelspec": {
   "display_name": "R 3.5",
   "language": "R",
   "name": "ir35"
  },
  "language_info": {
   "codemirror_mode": "r",
   "file_extension": ".r",
   "mimetype": "text/x-r-source",
   "name": "R",
   "pygments_lexer": "r",
   "version": "3.5.2"
  }
 },
 "nbformat": 4,
 "nbformat_minor": 2
}
