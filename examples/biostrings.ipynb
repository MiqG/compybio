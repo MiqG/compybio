{
 "cells": [
  {
   "cell_type": "markdown",
   "metadata": {},
   "source": [
    "## k-mer indexing"
   ]
  },
  {
   "cell_type": "code",
   "execution_count": 5,
   "metadata": {},
   "outputs": [],
   "source": [
    "import numpy as np"
   ]
  },
  {
   "cell_type": "code",
   "execution_count": 110,
   "metadata": {},
   "outputs": [],
   "source": [
    "# functions\n",
    "def generateBiostring(stringType, length):\n",
    "    vocab = {'DNA': np.array(['A','C','T','G']),\n",
    "            'RNA': np.array(['A','C','U','G'])}\n",
    "    chosenVocab = vocab[stringType]\n",
    "    idxRand = np.random.randint(0,len(chosenVocab), size = length)\n",
    "    return ''.join(chosenVocab[idxRand])\n",
    "\n",
    "def getKmerIndex(biostring, sizeKmer):\n",
    "    index = []\n",
    "    for i in range(len(seq) - sizeKmer + 1):\n",
    "        index.append((seq[i:i+sizeKmer], i))\n",
    "        index.sort()\n",
    "    return index\n",
    "\n",
    "def queryKmerIndex(querySeq, kmerIndex):\n",
    "    \"Return which kmers contain the querySeq.\"\n",
    "    idxs = np.array(range(len(kmerIndex)))\n",
    "    for i, ntQuery in enumerate(querySeq):\n",
    "        for idx in idxs:\n",
    "            if kmerIndex[np.asscalar(idx)][0][i] != ntQuery:\n",
    "                idxs = idxs[idxs != idx]\n",
    "    hits = [kmer[1] for i, kmer in enumerate(kmerIndex) if i in idxs]\n",
    "    return hits"
   ]
  },
  {
   "cell_type": "code",
   "execution_count": 127,
   "metadata": {},
   "outputs": [
    {
     "name": "stdout",
     "output_type": "stream",
     "text": [
      "[425, 103]\n"
     ]
    }
   ],
   "source": [
    "seq = generateBiostring('DNA', 500)\n",
    "\n",
    "sizeKmer = 10\n",
    "kmerIndex = getKmerIndex(seq, sizeKmer)\n",
    "\n",
    "querySeq = 'ACTG'\n",
    "\n",
    "idxMatch = queryKmerIndex(querySeq, kmerIndex)\n",
    "print(idxMatch)"
   ]
  },
  {
   "cell_type": "code",
   "execution_count": 129,
   "metadata": {},
   "outputs": [
    {
     "name": "stdout",
     "output_type": "stream",
     "text": [
      "ACTGAAGGCC\n",
      "ACTGGGTCCT\n"
     ]
    }
   ],
   "source": [
    "# check\n",
    "for idx in idxMatch:\n",
    "    print(seq[idx:idx + sizeKmer])"
   ]
  }
 ],
 "metadata": {
  "kernelspec": {
   "display_name": "Python 3",
   "language": "python",
   "name": "python3"
  },
  "language_info": {
   "codemirror_mode": {
    "name": "ipython",
    "version": 3
   },
   "file_extension": ".py",
   "mimetype": "text/x-python",
   "name": "python",
   "nbconvert_exporter": "python",
   "pygments_lexer": "ipython3",
   "version": "3.7.3"
  }
 },
 "nbformat": 4,
 "nbformat_minor": 2
}
