{
 "cells": [
  {
   "cell_type": "markdown",
   "metadata": {},
   "source": [
    "# Classes from `modeling` module"
   ]
  },
  {
   "cell_type": "markdown",
   "metadata": {},
   "source": [
    "## `indexing()`\n",
    "Generate sequence indices for efficient sequence mapping"
   ]
  },
  {
   "cell_type": "code",
   "execution_count": 2,
   "metadata": {},
   "outputs": [],
   "source": [
    "import pandas as pd\n",
    "import numpy as np\n",
    "import os\n",
    "curdir = os.path.abspath(os.getcwd())\n",
    "os.chdir('..')\n",
    "from src.biostrings import *\n",
    "os.chdir(curdir)"
   ]
  },
  {
   "cell_type": "code",
   "execution_count": 3,
   "metadata": {},
   "outputs": [
    {
     "name": "stdout",
     "output_type": "stream",
     "text": [
      "[79, 437, 415, 5]\n"
     ]
    }
   ],
   "source": [
    "seq = indexing().generateBiostring('DNA', 500)\n",
    "\n",
    "sizeKmer = 10\n",
    "kmerIndex = indexing().getKmerIndex(seq, sizeKmer)\n",
    "\n",
    "querySeq = 'ACTG'\n",
    "\n",
    "idxMatch = indexing().queryKmerIndex(querySeq, kmerIndex)\n",
    "print(idxMatch)"
   ]
  },
  {
   "cell_type": "code",
   "execution_count": 4,
   "metadata": {},
   "outputs": [
    {
     "name": "stdout",
     "output_type": "stream",
     "text": [
      "ACTGACATGG\n",
      "ACTGAGTGTG\n",
      "ACTGTAGGAG\n",
      "ACTGTATAAT\n"
     ]
    }
   ],
   "source": [
    "# check\n",
    "for idx in idxMatch:\n",
    "    print(seq[idx:idx + sizeKmer])"
   ]
  }
 ],
 "metadata": {
  "kernelspec": {
   "display_name": "Python 3",
   "language": "python",
   "name": "python3"
  },
  "language_info": {
   "codemirror_mode": {
    "name": "ipython",
    "version": 3
   },
   "file_extension": ".py",
   "mimetype": "text/x-python",
   "name": "python",
   "nbconvert_exporter": "python",
   "pygments_lexer": "ipython3",
   "version": "3.7.3"
  }
 },
 "nbformat": 4,
 "nbformat_minor": 2
}
